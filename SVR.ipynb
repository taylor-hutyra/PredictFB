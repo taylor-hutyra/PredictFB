{
 "cells": [
  {
   "cell_type": "code",
   "execution_count": 1,
   "metadata": {},
   "outputs": [
    {
     "name": "stderr",
     "output_type": "stream",
     "text": [
      "Using TensorFlow backend.\n"
     ]
    }
   ],
   "source": [
    "import pandas as pd\n",
    "from string import punctuation\n",
    "import re\n",
    "import numpy as np\n",
    "from setup import *\n",
    "import glob\n",
    "import os\n",
    "import pickle\n",
    "from collections import Counter\n",
    "from nltk.stem import WordNetLemmatizer\n",
    "from nltk.tokenize import sent_tokenize, word_tokenize, TweetTokenizer\n",
    "from nltk.corpus import stopwords\n",
    "from matplotlib import pyplot as plt\n",
    "import seaborn as sns\n",
    "from nltk.corpus import stopwords\n",
    "from sklearn.model_selection import train_test_split\n",
    "from keras.preprocessing import sequence"
   ]
  },
  {
   "cell_type": "markdown",
   "metadata": {},
   "source": [
    "# The Process\n",
    "\n",
    "## Data Acquisition \n",
    "\n",
    "1. Use Glob to collect all of the files in the Data Folder\n",
    "1. Save to single file for later use\n",
    "\n",
    "## Preprocessing\n",
    "\n",
    "1. Collect the columns for reach, engagement\n",
    "1. Create proportion column\n",
    "1. Make Variable for how much reach to keep\n",
    "1. Tokenize\n",
    "1. Tf-Idf\n",
    "\n",
    "\n",
    "## Save Preprocessing Steps\n",
    "1. Save teh Tf-Idf using pickle\n",
    "1. Condense the preprocessing step into a function\n",
    "\n",
    "## Model Setup\n",
    "1. Support Vector Machine Regression\n",
    "1. test-train split\n",
    "\n",
    "## Train The Model, Tune Hyperparameters\n",
    "1. Gridsearch on some parameters (maybe include how much reach to give to model)\n",
    "1. Save all of the models, compare outputs, etc\n",
    "1. Cross validate\n",
    "\n",
    "## Test Model\n",
    "1. Test each model on the testing set, look for best results. \n",
    "\n",
    "## Save Best Model \n",
    "1. Use pickle to save the best model for future use. "
   ]
  }
 ],
 "metadata": {
  "kernelspec": {
   "display_name": "Python 3",
   "language": "python",
   "name": "python3"
  },
  "language_info": {
   "codemirror_mode": {
    "name": "ipython",
    "version": 3
   },
   "file_extension": ".py",
   "mimetype": "text/x-python",
   "name": "python",
   "nbconvert_exporter": "python",
   "pygments_lexer": "ipython3",
   "version": "3.6.1"
  }
 },
 "nbformat": 4,
 "nbformat_minor": 2
}
